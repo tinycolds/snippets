a="stable"
b="Stable"
c="sd"

%cd /content

%env TF_CPP_MIN_LOG_LEVEL=1

!apt -y update -qq
!wget https://github.com/camenduru/gperftools/releases/download/v1.0/libtcmalloc_minimal.so.4 -O /content/libtcmalloc_minimal.so.4
%env LD_PRELOAD=/content/libtcmalloc_minimal.so.4

!apt -y install -qq aria2 libcairo2-dev pkg-config python3-dev
!pip install -q torch==2.0.1+cu118 torchvision==0.15.2+cu118 torchaudio==2.0.2+cu118 torchtext==0.15.2 torchdata==0.6.1 --extra-index-url https://download.pytorch.org/whl/cu118 -U
!pip install -q xformers==0.0.20 triton==2.0.0 gradio_client==0.2.7 -U

!git clone -b v2.4 https://github.com/camenduru/{a}-diffusion-webui
!git clone https://huggingface.co/embed/negative /content/{a}-diffusion-webui/embeddings/negative
!git clone https://huggingface.co/embed/lora /content/{a}-diffusion-webui/models/Lora/positive
!aria2c --console-log-level=error -c -x 16 -s 16 -k 1M https://huggingface.co/embed/upscale/resolve/main/4x-UltraSharp.pth -d /content/{a}-diffusion-webui/models/ESRGAN -o 4x-UltraSharp.pth
!wget https://raw.githubusercontent.com/camenduru/{a}-diffusion-webui-scripts/main/run_n_times.py -O /content/{a}-diffusion-webui/scripts/run_n_times.py
!git clone https://github.com/deforum-art/deforum-for-automatic1111-webui /content/{a}-diffusion-webui/extensions/deforum-for-automatic1111-webui
!git clone https://github.com/camenduru/{a}-diffusion-webui-images-browser /content/{a}-diffusion-webui/extensions/{a}-diffusion-webui-images-browser
!git clone https://github.com/camenduru/{a}-diffusion-webui-huggingface /content/{a}-diffusion-webui/extensions/{a}-diffusion-webui-huggingface
!git clone https://github.com/camenduru/{c}-civitai-browser /content/{a}-diffusion-webui/extensions/{c}-civitai-browser
!git clone https://github.com/kohya-ss/{c}-webui-additional-networks /content/{a}-diffusion-webui/extensions/{c}-webui-additional-networks
!git clone https://github.com/Mikubill/{c}-webui-controlnet /content/{a}-diffusion-webui/extensions/{c}-webui-controlnet
!git clone https://github.com/fkunn1326/openpose-editor /content/{a}-diffusion-webui/extensions/openpose-editor
!git clone https://github.com/jexom/{c}-webui-depth-lib /content/{a}-diffusion-webui/extensions/{c}-webui-depth-lib
!git clone https://github.com/hnmr293/posex /content/{a}-diffusion-webui/extensions/posex
!git clone https://github.com/nonnonstop/{c}-webui-3d-open-pose-editor /content/{a}-diffusion-webui/extensions/{c}-webui-3d-open-pose-editor
!git clone https://github.com/camenduru/{c}-webui-tunnels /content/{a}-diffusion-webui/extensions/{c}-webui-tunnels
!git clone https://github.com/etherealxx/batchlinks-webui /content/{a}-diffusion-webui/extensions/batchlinks-webui
!git clone https://github.com/camenduru/{a}-diffusion-webui-catppuccin /content/{a}-diffusion-webui/extensions/{a}-diffusion-webui-catppuccin
!git clone https://github.com/AUTOMATIC1111/{a}-diffusion-webui-rembg /content/{a}-diffusion-webui/extensions/{a}-diffusion-webui-rembg
!git clone https://github.com/ashen-sensored/{a}-diffusion-webui-two-shot /content/{a}-diffusion-webui/extensions/{a}-diffusion-webui-two-shot
!git clone https://github.com/thomasasfk/{c}-webui-aspect-ratio-helper /content/{a}-diffusion-webui/extensions/{c}-webui-aspect-ratio-helper
!git clone https://github.com/tjm35/asymmetric-tiling-{c}-webui /content/{a}-diffusion-webui/extensions/asymmetric-tiling-{c}-webui
%cd /content/{a}-diffusion-webui
!git reset --hard
!git -C /content/{a}-diffusion-webui/repositories/{a}-diffusion-stability-ai reset --hard

!aria2c --console-log-level=error -c -x 16 -s 16 -k 1M https://huggingface.co/ckpt/ControlNet-v1-1/resolve/main/control_v11e_{c}15_ip2p_fp16.safetensors -d /content/{a}-diffusion-webui/extensions/{c}-webui-controlnet/models -o control_v11e_{c}15_ip2p_fp16.safetensors
!aria2c --console-log-level=error -c -x 16 -s 16 -k 1M https://huggingface.co/ckpt/ControlNet-v1-1/resolve/main/control_v11e_{c}15_shuffle_fp16.safetensors -d /content/{a}-diffusion-webui/extensions/{c}-webui-controlnet/models -o control_v11e_{c}15_shuffle_fp16.safetensors
!aria2c --console-log-level=error -c -x 16 -s 16 -k 1M https://huggingface.co/ckpt/ControlNet-v1-1/resolve/main/control_v11p_{c}15_canny_fp16.safetensors -d /content/{a}-diffusion-webui/extensions/{c}-webui-controlnet/models -o control_v11p_{c}15_canny_fp16.safetensors
!aria2c --console-log-level=error -c -x 16 -s 16 -k 1M https://huggingface.co/ckpt/ControlNet-v1-1/resolve/main/control_v11f1p_{c}15_depth_fp16.safetensors -d /content/{a}-diffusion-webui/extensions/{c}-webui-controlnet/models -o control_v11f1p_{c}15_depth_fp16.safetensors
!aria2c --console-log-level=error -c -x 16 -s 16 -k 1M https://huggingface.co/ckpt/ControlNet-v1-1/resolve/main/control_v11p_{c}15_inpaint_fp16.safetensors -d /content/{a}-diffusion-webui/extensions/{c}-webui-controlnet/models -o control_v11p_{c}15_inpaint_fp16.safetensors
!aria2c --console-log-level=error -c -x 16 -s 16 -k 1M https://huggingface.co/ckpt/ControlNet-v1-1/resolve/main/control_v11p_{c}15_lineart_fp16.safetensors -d /content/{a}-diffusion-webui/extensions/{c}-webui-controlnet/models -o control_v11p_{c}15_lineart_fp16.safetensors
!aria2c --console-log-level=error -c -x 16 -s 16 -k 1M https://huggingface.co/ckpt/ControlNet-v1-1/resolve/main/control_v11p_{c}15_ml{c}_fp16.safetensors -d /content/{a}-diffusion-webui/extensions/{c}-webui-controlnet/models -o control_v11p_{c}15_ml{c}_fp16.safetensors
!aria2c --console-log-level=error -c -x 16 -s 16 -k 1M https://huggingface.co/ckpt/ControlNet-v1-1/resolve/main/control_v11p_{c}15_normalbae_fp16.safetensors -d /content/{a}-diffusion-webui/extensions/{c}-webui-controlnet/models -o control_v11p_{c}15_normalbae_fp16.safetensors
!aria2c --console-log-level=error -c -x 16 -s 16 -k 1M https://huggingface.co/ckpt/ControlNet-v1-1/resolve/main/control_v11p_{c}15_openpose_fp16.safetensors -d /content/{a}-diffusion-webui/extensions/{c}-webui-controlnet/models -o control_v11p_{c}15_openpose_fp16.safetensors
!aria2c --console-log-level=error -c -x 16 -s 16 -k 1M https://huggingface.co/ckpt/ControlNet-v1-1/resolve/main/control_v11p_{c}15_scribble_fp16.safetensors -d /content/{a}-diffusion-webui/extensions/{c}-webui-controlnet/models -o control_v11p_{c}15_scribble_fp16.safetensors
!aria2c --console-log-level=error -c -x 16 -s 16 -k 1M https://huggingface.co/ckpt/ControlNet-v1-1/resolve/main/control_v11p_{c}15_seg_fp16.safetensors -d /content/{a}-diffusion-webui/extensions/{c}-webui-controlnet/models -o control_v11p_{c}15_seg_fp16.safetensors
!aria2c --console-log-level=error -c -x 16 -s 16 -k 1M https://huggingface.co/ckpt/ControlNet-v1-1/resolve/main/control_v11p_{c}15_softedge_fp16.safetensors -d /content/{a}-diffusion-webui/extensions/{c}-webui-controlnet/models -o control_v11p_{c}15_softedge_fp16.safetensors
!aria2c --console-log-level=error -c -x 16 -s 16 -k 1M https://huggingface.co/ckpt/ControlNet-v1-1/resolve/main/control_v11p_{c}15s2_lineart_anime_fp16.safetensors -d /content/{a}-diffusion-webui/extensions/{c}-webui-controlnet/models -o control_v11p_{c}15s2_lineart_anime_fp16.safetensors
!aria2c --console-log-level=error -c -x 16 -s 16 -k 1M https://huggingface.co/ckpt/ControlNet-v1-1/resolve/main/control_v11f1e_{c}15_tile_fp16.safetensors -d /content/{a}-diffusion-webui/extensions/{c}-webui-controlnet/models -o control_v11f1e_{c}15_tile_fp16.safetensors
!aria2c --console-log-level=error -c -x 16 -s 16 -k 1M https://huggingface.co/ckpt/ControlNet-v1-1/raw/main/control_v11e_{c}15_ip2p_fp16.yaml -d /content/{a}-diffusion-webui/extensions/{c}-webui-controlnet/models -o control_v11e_{c}15_ip2p_fp16.yaml
!aria2c --console-log-level=error -c -x 16 -s 16 -k 1M https://huggingface.co/ckpt/ControlNet-v1-1/raw/main/control_v11e_{c}15_shuffle_fp16.yaml -d /content/{a}-diffusion-webui/extensions/{c}-webui-controlnet/models -o control_v11e_{c}15_shuffle_fp16.yaml
!aria2c --console-log-level=error -c -x 16 -s 16 -k 1M https://huggingface.co/ckpt/ControlNet-v1-1/raw/main/control_v11p_{c}15_canny_fp16.yaml -d /content/{a}-diffusion-webui/extensions/{c}-webui-controlnet/models -o control_v11p_{c}15_canny_fp16.yaml
!aria2c --console-log-level=error -c -x 16 -s 16 -k 1M https://huggingface.co/ckpt/ControlNet-v1-1/raw/main/control_v11f1p_{c}15_depth_fp16.yaml -d /content/{a}-diffusion-webui/extensions/{c}-webui-controlnet/models -o control_v11f1p_{c}15_depth_fp16.yaml
!aria2c --console-log-level=error -c -x 16 -s 16 -k 1M https://huggingface.co/ckpt/ControlNet-v1-1/raw/main/control_v11p_{c}15_inpaint_fp16.yaml -d /content/{a}-diffusion-webui/extensions/{c}-webui-controlnet/models -o control_v11p_{c}15_inpaint_fp16.yaml
!aria2c --console-log-level=error -c -x 16 -s 16 -k 1M https://huggingface.co/ckpt/ControlNet-v1-1/raw/main/control_v11p_{c}15_lineart_fp16.yaml -d /content/{a}-diffusion-webui/extensions/{c}-webui-controlnet/models -o control_v11p_{c}15_lineart_fp16.yaml
!aria2c --console-log-level=error -c -x 16 -s 16 -k 1M https://huggingface.co/ckpt/ControlNet-v1-1/raw/main/control_v11p_{c}15_ml{c}_fp16.yaml -d /content/{a}-diffusion-webui/extensions/{c}-webui-controlnet/models -o control_v11p_{c}15_ml{c}_fp16.yaml
!aria2c --console-log-level=error -c -x 16 -s 16 -k 1M https://huggingface.co/ckpt/ControlNet-v1-1/raw/main/control_v11p_{c}15_normalbae_fp16.yaml -d /content/{a}-diffusion-webui/extensions/{c}-webui-controlnet/models -o control_v11p_{c}15_normalbae_fp16.yaml
!aria2c --console-log-level=error -c -x 16 -s 16 -k 1M https://huggingface.co/ckpt/ControlNet-v1-1/raw/main/control_v11p_{c}15_openpose_fp16.yaml -d /content/{a}-diffusion-webui/extensions/{c}-webui-controlnet/models -o control_v11p_{c}15_openpose_fp16.yaml
!aria2c --console-log-level=error -c -x 16 -s 16 -k 1M https://huggingface.co/ckpt/ControlNet-v1-1/raw/main/control_v11p_{c}15_scribble_fp16.yaml -d /content/{a}-diffusion-webui/extensions/{c}-webui-controlnet/models -o control_v11p_{c}15_scribble_fp16.yaml
!aria2c --console-log-level=error -c -x 16 -s 16 -k 1M https://huggingface.co/ckpt/ControlNet-v1-1/raw/main/control_v11p_{c}15_seg_fp16.yaml -d /content/{a}-diffusion-webui/extensions/{c}-webui-controlnet/models -o control_v11p_{c}15_seg_fp16.yaml
!aria2c --console-log-level=error -c -x 16 -s 16 -k 1M https://huggingface.co/ckpt/ControlNet-v1-1/raw/main/control_v11p_{c}15_softedge_fp16.yaml -d /content/{a}-diffusion-webui/extensions/{c}-webui-controlnet/models -o control_v11p_{c}15_softedge_fp16.yaml
!aria2c --console-log-level=error -c -x 16 -s 16 -k 1M https://huggingface.co/ckpt/ControlNet-v1-1/raw/main/control_v11p_{c}15s2_lineart_anime_fp16.yaml -d /content/{a}-diffusion-webui/extensions/{c}-webui-controlnet/models -o control_v11p_{c}15s2_lineart_anime_fp16.yaml
!aria2c --console-log-level=error -c -x 16 -s 16 -k 1M https://huggingface.co/ckpt/ControlNet-v1-1/raw/main/control_v11f1e_{c}15_tile_fp16.yaml -d /content/{a}-diffusion-webui/extensions/{c}-webui-controlnet/models -o control_v11f1e_{c}15_tile_fp16.yaml
!aria2c --console-log-level=error -c -x 16 -s 16 -k 1M https://huggingface.co/ckpt/ControlNet-v1-1/resolve/main/t2iadapter_style_{c}14v1.pth -d /content/{a}-diffusion-webui/extensions/{c}-webui-controlnet/models -o t2iadapter_style_{c}14v1.pth
!aria2c --console-log-level=error -c -x 16 -s 16 -k 1M https://huggingface.co/ckpt/ControlNet-v1-1/resolve/main/t2iadapter_sketch_{c}14v1.pth -d /content/{a}-diffusion-webui/extensions/{c}-webui-controlnet/models -o t2iadapter_sketch_{c}14v1.pth
!aria2c --console-log-level=error -c -x 16 -s 16 -k 1M https://huggingface.co/ckpt/ControlNet-v1-1/resolve/main/t2iadapter_seg_{c}14v1.pth -d /content/{a}-diffusion-webui/extensions/{c}-webui-controlnet/models -o t2iadapter_seg_{c}14v1.pth
!aria2c --console-log-level=error -c -x 16 -s 16 -k 1M https://huggingface.co/ckpt/ControlNet-v1-1/resolve/main/t2iadapter_openpose_{c}14v1.pth -d /content/{a}-diffusion-webui/extensions/{c}-webui-controlnet/models -o t2iadapter_openpose_{c}14v1.pth
!aria2c --console-log-level=error -c -x 16 -s 16 -k 1M https://huggingface.co/ckpt/ControlNet-v1-1/resolve/main/t2iadapter_keypose_{c}14v1.pth -d /content/{a}-diffusion-webui/extensions/{c}-webui-controlnet/models -o t2iadapter_keypose_{c}14v1.pth
!aria2c --console-log-level=error -c -x 16 -s 16 -k 1M https://huggingface.co/ckpt/ControlNet-v1-1/resolve/main/t2iadapter_depth_{c}14v1.pth -d /content/{a}-diffusion-webui/extensions/{c}-webui-controlnet/models -o t2iadapter_depth_{c}14v1.pth
!aria2c --console-log-level=error -c -x 16 -s 16 -k 1M https://huggingface.co/ckpt/ControlNet-v1-1/resolve/main/t2iadapter_color_{c}14v1.pth -d /content/{a}-diffusion-webui/extensions/{c}-webui-controlnet/models -o t2iadapter_color_{c}14v1.pth
!aria2c --console-log-level=error -c -x 16 -s 16 -k 1M https://huggingface.co/ckpt/ControlNet-v1-1/resolve/main/t2iadapter_canny_{c}14v1.pth -d /content/{a}-diffusion-webui/extensions/{c}-webui-controlnet/models -o t2iadapter_canny_{c}14v1.pth
!aria2c --console-log-level=error -c -x 16 -s 16 -k 1M https://huggingface.co/ckpt/ControlNet-v1-1/resolve/main/t2iadapter_canny_{c}15v2.pth -d /content/{a}-diffusion-webui/extensions/{c}-webui-controlnet/models -o t2iadapter_canny_{c}15v2.pth
!aria2c --console-log-level=error -c -x 16 -s 16 -k 1M https://huggingface.co/ckpt/ControlNet-v1-1/resolve/main/t2iadapter_depth_{c}15v2.pth -d /content/{a}-diffusion-webui/extensions/{c}-webui-controlnet/models -o t2iadapter_depth_{c}15v2.pth
!aria2c --console-log-level=error -c -x 16 -s 16 -k 1M https://huggingface.co/ckpt/ControlNet-v1-1/resolve/main/t2iadapter_sketch_{c}15v2.pth -d /content/{a}-diffusion-webui/extensions/{c}-webui-controlnet/models -o t2iadapter_sketch_{c}15v2.pth
!aria2c --console-log-level=error -c -x 16 -s 16 -k 1M https://huggingface.co/ckpt/ControlNet-v1-1/resolve/main/t2iadapter_zoedepth_{c}15v1.pth -d /content/{a}-diffusion-webui/extensions/{c}-webui-controlnet/models -o t2iadapter_zoedepth_{c}15v1.pth

!aria2c --console-log-level=error -c -x 16 -s 16 -k 1M https://huggingface.co/ckpt/{c}14/resolve/main/{c}-v1-4.ckpt -d /content/{a}-diffusion-webui/models/{b}-diffusion -o {c}-v1-4.ckpt

!sed -i -e '''/from modules import launch_utils/a\import os''' /content/{a}-diffusion-webui/launch.py
!sed -i -e '''/        prepare_environment()/a\        os.system\(f\"""sed -i -e ''\"s/dict()))/dict())).cuda()/g\"'' /content/{a}-diffusion-webui/repositories/{a}-diffusion-stability-ai/ldm/util.py""")''' /content/{a}-diffusion-webui/launch.py
!sed -i -e 's/\["{c}_model_checkpoint"\]/\["{c}_model_checkpoint","{c}_vae","CLIP_stop_at_last_layers"\]/g' /content/{a}-diffusion-webui/modules/shared.py

!python launch.py --listen --xformers --enable-insecure-extension-access --theme dark --gradio-queue --multiple
